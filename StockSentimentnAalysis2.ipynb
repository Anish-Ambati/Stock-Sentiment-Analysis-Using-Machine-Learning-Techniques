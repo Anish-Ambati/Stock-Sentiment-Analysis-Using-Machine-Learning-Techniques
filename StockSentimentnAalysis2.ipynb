{
  "nbformat": 4,
  "nbformat_minor": 0,
  "metadata": {
    "colab": {
      "provenance": []
    },
    "kernelspec": {
      "name": "python3",
      "display_name": "Python 3"
    },
    "language_info": {
      "name": "python"
    }
  },
  "cells": [
    {
      "cell_type": "code",
      "execution_count": 24,
      "metadata": {
        "colab": {
          "base_uri": "https://localhost:8080/"
        },
        "id": "RTzNtAo3gg1r",
        "outputId": "022cfa75-e971-4c6b-a26e-adb82d3db37e"
      },
      "outputs": [
        {
          "output_type": "stream",
          "name": "stdout",
          "text": [
            "Requirement already satisfied: requests in /usr/local/lib/python3.10/dist-packages (2.31.0)\n",
            "Requirement already satisfied: charset-normalizer<4,>=2 in /usr/local/lib/python3.10/dist-packages (from requests) (3.3.2)\n",
            "Requirement already satisfied: idna<4,>=2.5 in /usr/local/lib/python3.10/dist-packages (from requests) (3.7)\n",
            "Requirement already satisfied: urllib3<3,>=1.21.1 in /usr/local/lib/python3.10/dist-packages (from requests) (2.0.7)\n",
            "Requirement already satisfied: certifi>=2017.4.17 in /usr/local/lib/python3.10/dist-packages (from requests) (2024.6.2)\n",
            "Requirement already satisfied: beautifulsoup4 in /usr/local/lib/python3.10/dist-packages (4.12.3)\n",
            "Requirement already satisfied: soupsieve>1.2 in /usr/local/lib/python3.10/dist-packages (from beautifulsoup4) (2.5)\n",
            "Requirement already satisfied: nltk in /usr/local/lib/python3.10/dist-packages (3.8.1)\n",
            "Requirement already satisfied: click in /usr/local/lib/python3.10/dist-packages (from nltk) (8.1.7)\n",
            "Requirement already satisfied: joblib in /usr/local/lib/python3.10/dist-packages (from nltk) (1.4.2)\n",
            "Requirement already satisfied: regex>=2021.8.3 in /usr/local/lib/python3.10/dist-packages (from nltk) (2024.5.15)\n",
            "Requirement already satisfied: tqdm in /usr/local/lib/python3.10/dist-packages (from nltk) (4.66.4)\n",
            "Requirement already satisfied: scikit-learn in /usr/local/lib/python3.10/dist-packages (1.2.2)\n",
            "Requirement already satisfied: numpy>=1.17.3 in /usr/local/lib/python3.10/dist-packages (from scikit-learn) (1.25.2)\n",
            "Requirement already satisfied: scipy>=1.3.2 in /usr/local/lib/python3.10/dist-packages (from scikit-learn) (1.11.4)\n",
            "Requirement already satisfied: joblib>=1.1.1 in /usr/local/lib/python3.10/dist-packages (from scikit-learn) (1.4.2)\n",
            "Requirement already satisfied: threadpoolctl>=2.0.0 in /usr/local/lib/python3.10/dist-packages (from scikit-learn) (3.5.0)\n",
            "Requirement already satisfied: matplotlib in /usr/local/lib/python3.10/dist-packages (3.7.1)\n",
            "Requirement already satisfied: contourpy>=1.0.1 in /usr/local/lib/python3.10/dist-packages (from matplotlib) (1.2.1)\n",
            "Requirement already satisfied: cycler>=0.10 in /usr/local/lib/python3.10/dist-packages (from matplotlib) (0.12.1)\n",
            "Requirement already satisfied: fonttools>=4.22.0 in /usr/local/lib/python3.10/dist-packages (from matplotlib) (4.53.0)\n",
            "Requirement already satisfied: kiwisolver>=1.0.1 in /usr/local/lib/python3.10/dist-packages (from matplotlib) (1.4.5)\n",
            "Requirement already satisfied: numpy>=1.20 in /usr/local/lib/python3.10/dist-packages (from matplotlib) (1.25.2)\n",
            "Requirement already satisfied: packaging>=20.0 in /usr/local/lib/python3.10/dist-packages (from matplotlib) (24.1)\n",
            "Requirement already satisfied: pillow>=6.2.0 in /usr/local/lib/python3.10/dist-packages (from matplotlib) (9.4.0)\n",
            "Requirement already satisfied: pyparsing>=2.3.1 in /usr/local/lib/python3.10/dist-packages (from matplotlib) (3.1.2)\n",
            "Requirement already satisfied: python-dateutil>=2.7 in /usr/local/lib/python3.10/dist-packages (from matplotlib) (2.8.2)\n",
            "Requirement already satisfied: six>=1.5 in /usr/local/lib/python3.10/dist-packages (from python-dateutil>=2.7->matplotlib) (1.16.0)\n",
            "Requirement already satisfied: pandas_datareader in /usr/local/lib/python3.10/dist-packages (0.10.0)\n",
            "Requirement already satisfied: lxml in /usr/local/lib/python3.10/dist-packages (from pandas_datareader) (4.9.4)\n",
            "Requirement already satisfied: pandas>=0.23 in /usr/local/lib/python3.10/dist-packages (from pandas_datareader) (2.0.3)\n",
            "Requirement already satisfied: requests>=2.19.0 in /usr/local/lib/python3.10/dist-packages (from pandas_datareader) (2.31.0)\n",
            "Requirement already satisfied: python-dateutil>=2.8.2 in /usr/local/lib/python3.10/dist-packages (from pandas>=0.23->pandas_datareader) (2.8.2)\n",
            "Requirement already satisfied: pytz>=2020.1 in /usr/local/lib/python3.10/dist-packages (from pandas>=0.23->pandas_datareader) (2023.4)\n",
            "Requirement already satisfied: tzdata>=2022.1 in /usr/local/lib/python3.10/dist-packages (from pandas>=0.23->pandas_datareader) (2024.1)\n",
            "Requirement already satisfied: numpy>=1.21.0 in /usr/local/lib/python3.10/dist-packages (from pandas>=0.23->pandas_datareader) (1.25.2)\n",
            "Requirement already satisfied: charset-normalizer<4,>=2 in /usr/local/lib/python3.10/dist-packages (from requests>=2.19.0->pandas_datareader) (3.3.2)\n",
            "Requirement already satisfied: idna<4,>=2.5 in /usr/local/lib/python3.10/dist-packages (from requests>=2.19.0->pandas_datareader) (3.7)\n",
            "Requirement already satisfied: urllib3<3,>=1.21.1 in /usr/local/lib/python3.10/dist-packages (from requests>=2.19.0->pandas_datareader) (2.0.7)\n",
            "Requirement already satisfied: certifi>=2017.4.17 in /usr/local/lib/python3.10/dist-packages (from requests>=2.19.0->pandas_datareader) (2024.6.2)\n",
            "Requirement already satisfied: six>=1.5 in /usr/local/lib/python3.10/dist-packages (from python-dateutil>=2.8.2->pandas>=0.23->pandas_datareader) (1.16.0)\n"
          ]
        }
      ],
      "source": [
        "# Install required libraries if not already installed\n",
        "!pip install requests\n",
        "!pip install beautifulsoup4\n",
        "!pip install nltk\n",
        "!pip install scikit-learn\n",
        "!pip install matplotlib\n",
        "!pip install pandas_datareader"
      ]
    },
    {
      "cell_type": "code",
      "source": [
        "import requests\n",
        "from bs4 import BeautifulSoup\n",
        "import pandas as pd\n",
        "import numpy as np\n",
        "import nltk\n",
        "from nltk.corpus import stopwords\n",
        "from nltk.tokenize import word_tokenize\n",
        "from nltk.stem import PorterStemmer, WordNetLemmatizer\n",
        "from sklearn.feature_extraction.text import CountVectorizer, TfidfTransformer\n",
        "from sklearn.model_selection import train_test_split\n",
        "from sklearn.pipeline import Pipeline\n",
        "from sklearn.metrics import accuracy_score, precision_score, recall_score, f1_score, classification_report, confusion_matrix\n",
        "from sklearn.linear_model import LogisticRegression\n",
        "from sklearn.ensemble import RandomForestClassifier\n",
        "from sklearn.svm import SVC\n",
        "from sklearn.naive_bayes import MultinomialNB\n",
        "import matplotlib.pyplot as plt\n",
        "from pandas_datareader import data as pdr\n",
        "import yfinance as yf\n",
        "yf.pdr_override()"
      ],
      "metadata": {
        "id": "nbdmicwFgifB"
      },
      "execution_count": 25,
      "outputs": []
    },
    {
      "cell_type": "code",
      "source": [
        "# Download NLTK resources\n",
        "nltk.download('punkt')\n",
        "nltk.download('stopwords')\n",
        "nltk.download('wordnet')"
      ],
      "metadata": {
        "colab": {
          "base_uri": "https://localhost:8080/"
        },
        "id": "RxgodIdmgibu",
        "outputId": "238788e5-38e6-4a6a-face-19f9d832e490"
      },
      "execution_count": 26,
      "outputs": [
        {
          "output_type": "stream",
          "name": "stderr",
          "text": [
            "[nltk_data] Downloading package punkt to /root/nltk_data...\n",
            "[nltk_data]   Package punkt is already up-to-date!\n",
            "[nltk_data] Downloading package stopwords to /root/nltk_data...\n",
            "[nltk_data]   Package stopwords is already up-to-date!\n",
            "[nltk_data] Downloading package wordnet to /root/nltk_data...\n",
            "[nltk_data]   Package wordnet is already up-to-date!\n"
          ]
        },
        {
          "output_type": "execute_result",
          "data": {
            "text/plain": [
              "True"
            ]
          },
          "metadata": {},
          "execution_count": 26
        }
      ]
    },
    {
      "cell_type": "code",
      "source": [
        "# Function to scrape headlines from Finviz\n",
        "def scrape_finviz_headlines():\n",
        "    url = 'https://finviz.com/news.ashx'\n",
        "    headers = {'User-Agent': 'Mozilla/5.0 (Windows NT 10.0; Win64; x64) AppleWebKit/537.36 (KHTML, like Gecko) Chrome/91.0.4472.124 Safari/537.36'}\n",
        "\n",
        "    response = requests.get(url, headers=headers)\n",
        "    if response.status_code == 200:\n",
        "        soup = BeautifulSoup(response.content, 'html.parser')\n",
        "        headlines = soup.select('.nn-tab-link')\n",
        "\n",
        "        headlines_list = []\n",
        "        for headline in headlines:\n",
        "            headline_text = headline.text.strip()\n",
        "            headlines_list.append(headline_text)\n",
        "\n",
        "        return headlines_list\n",
        "    else:\n",
        "        print(f'Failed to retrieve headlines. Status code: {response.status_code}')\n",
        "        return None\n"
      ],
      "metadata": {
        "id": "XJAMeaR0giZG"
      },
      "execution_count": 27,
      "outputs": []
    },
    {
      "cell_type": "code",
      "source": [
        "# Function to fetch stock data using Yahoo Finance\n",
        "def fetch_stock_data(symbol, start_date, end_date):\n",
        "    try:\n",
        "        stock_data = pdr.get_data_yahoo(symbol, start=start_date, end=end_date)\n",
        "        return stock_data\n",
        "    except Exception as e:\n",
        "        print(f\"Error fetching stock data: {e}\")\n",
        "        return None\n"
      ],
      "metadata": {
        "id": "zbga0mbfgiWt"
      },
      "execution_count": 28,
      "outputs": []
    },
    {
      "cell_type": "code",
      "source": [
        "# Scraping headlines from Finviz\n",
        "headlines = scrape_finviz_headlines()"
      ],
      "metadata": {
        "id": "VODGEfWhgiUh"
      },
      "execution_count": 29,
      "outputs": []
    },
    {
      "cell_type": "code",
      "source": [
        "# Displaying fetched headlines\n",
        "if headlines:\n",
        "    print(f'Number of headlines fetched: {len(headlines)}')\n",
        "    for idx, headline in enumerate(headlines[:10], start=1):\n",
        "        print(f'{idx}. {headline}')\n",
        "else:\n",
        "    print('No headlines fetched.')\n"
      ],
      "metadata": {
        "colab": {
          "base_uri": "https://localhost:8080/"
        },
        "id": "tmUsgla-giSS",
        "outputId": "84dee8f1-b7c0-47ff-bdd4-a6d353254d85"
      },
      "execution_count": 30,
      "outputs": [
        {
          "output_type": "stream",
          "name": "stdout",
          "text": [
            "Number of headlines fetched: 180\n",
            "1. Nvidia's surge reveals a pitfall of passive investing\n",
            "2. Why the Fed might need to 'get on with it' and cut rates\n",
            "3. S&P, Nasdaq futures climb as Nvidia stretches rally\n",
            "4. Honeywell Strikes $2 Billion Deal for Defense Business\n",
            "5. Sasol Wins $342 Million Settlement After Pipeline-Fee Dispute\n",
            "6. Abu Dhabi’s Biggest Fund Hires Ex-JD Executive in China\n",
            "7. 8 stocks other than Microsoft, Apple and Nvidia that could be worth $4 trillion in three years\n",
            "8. Stock Market Today: Futures Rise, Led by Nasdaq; Swiss Franc Weakens\n",
            "9. It's Going to Cost More to Stay Cool This Summer\n",
            "10. What's the Best Way to Protect Your Credit Score? Take Our Quiz\n"
          ]
        }
      ]
    },
    {
      "cell_type": "code",
      "source": [
        "# Preprocessing function\n",
        "def preprocess_text(text):\n",
        "    # Convert to lowercase\n",
        "    text = text.lower()\n",
        "\n",
        "    # Tokenization\n",
        "    tokens = word_tokenize(text)\n",
        "\n",
        "    # Remove punctuation and stop words\n",
        "    tokens = [word for word in tokens if word.isalnum() and word not in stopwords.words('english')]\n",
        "\n",
        "    # Stemming\n",
        "    stemmer = PorterStemmer()\n",
        "    stemmed_tokens = [stemmer.stem(word) for word in tokens]\n",
        "\n",
        "    # Lemmatization\n",
        "    lemmatizer = WordNetLemmatizer()\n",
        "    lemmatized_tokens = [lemmatizer.lemmatize(word) for word in stemmed_tokens]\n",
        "\n",
        "    # Join tokens back into text\n",
        "    processed_text = ' '.join(lemmatized_tokens)\n",
        "\n",
        "    return processed_text\n"
      ],
      "metadata": {
        "id": "tL6iunDqgiQO"
      },
      "execution_count": 31,
      "outputs": []
    },
    {
      "cell_type": "code",
      "source": [
        "# Example of preprocessing\n",
        "print(\"\\nExample of preprocessing:\")\n",
        "sample_text = headlines[0]\n",
        "processed_text = preprocess_text(sample_text)\n",
        "print(f'Original Text: {sample_text}')\n",
        "print(f'Processed Text: {processed_text}')\n"
      ],
      "metadata": {
        "colab": {
          "base_uri": "https://localhost:8080/"
        },
        "id": "FyoXteyXgiNs",
        "outputId": "7445db5e-c07f-4155-d0bc-63f25221ba0d"
      },
      "execution_count": 32,
      "outputs": [
        {
          "output_type": "stream",
          "name": "stdout",
          "text": [
            "\n",
            "Example of preprocessing:\n",
            "Original Text: Nvidia's surge reveals a pitfall of passive investing\n",
            "Processed Text: nvidia surg reveal pitfal passiv invest\n"
          ]
        }
      ]
    },
    {
      "cell_type": "code",
      "source": [
        "# Dummy data labeling for demonstration\n",
        "labels = ['positive', 'negative', 'neutral']\n",
        "dummy_labels = np.random.choice(labels, len(headlines))\n"
      ],
      "metadata": {
        "id": "sBXxVV-Mgh_g"
      },
      "execution_count": 33,
      "outputs": []
    },
    {
      "cell_type": "code",
      "source": [
        "# Train-test split\n",
        "X_train, X_test, y_train, y_test = train_test_split(headlines, dummy_labels, test_size=0.2, random_state=42)\n"
      ],
      "metadata": {
        "id": "-ytUVhpKlvqc"
      },
      "execution_count": 34,
      "outputs": []
    },
    {
      "cell_type": "code",
      "source": [
        "# Machine Learning Pipeline\n",
        "pipeline = Pipeline([\n",
        "    ('vect', CountVectorizer(preprocessor=preprocess_text)),\n",
        "    ('tfidf', TfidfTransformer()),\n",
        "    ('clf', MultinomialNB())\n",
        "])\n"
      ],
      "metadata": {
        "id": "V674UZcclvnG"
      },
      "execution_count": 35,
      "outputs": []
    },
    {
      "cell_type": "code",
      "source": [
        "# Training the model\n",
        "pipeline.fit(X_train, y_train)\n"
      ],
      "metadata": {
        "colab": {
          "base_uri": "https://localhost:8080/",
          "height": 161
        },
        "id": "HACjI6U1lvkq",
        "outputId": "478aa0a7-7a51-419b-eba0-5006362cab18"
      },
      "execution_count": 36,
      "outputs": [
        {
          "output_type": "execute_result",
          "data": {
            "text/plain": [
              "Pipeline(steps=[('vect',\n",
              "                 CountVectorizer(preprocessor=<function preprocess_text at 0x78505288a440>)),\n",
              "                ('tfidf', TfidfTransformer()), ('clf', MultinomialNB())])"
            ],
            "text/html": [
              "<style>#sk-container-id-2 {color: black;background-color: white;}#sk-container-id-2 pre{padding: 0;}#sk-container-id-2 div.sk-toggleable {background-color: white;}#sk-container-id-2 label.sk-toggleable__label {cursor: pointer;display: block;width: 100%;margin-bottom: 0;padding: 0.3em;box-sizing: border-box;text-align: center;}#sk-container-id-2 label.sk-toggleable__label-arrow:before {content: \"▸\";float: left;margin-right: 0.25em;color: #696969;}#sk-container-id-2 label.sk-toggleable__label-arrow:hover:before {color: black;}#sk-container-id-2 div.sk-estimator:hover label.sk-toggleable__label-arrow:before {color: black;}#sk-container-id-2 div.sk-toggleable__content {max-height: 0;max-width: 0;overflow: hidden;text-align: left;background-color: #f0f8ff;}#sk-container-id-2 div.sk-toggleable__content pre {margin: 0.2em;color: black;border-radius: 0.25em;background-color: #f0f8ff;}#sk-container-id-2 input.sk-toggleable__control:checked~div.sk-toggleable__content {max-height: 200px;max-width: 100%;overflow: auto;}#sk-container-id-2 input.sk-toggleable__control:checked~label.sk-toggleable__label-arrow:before {content: \"▾\";}#sk-container-id-2 div.sk-estimator input.sk-toggleable__control:checked~label.sk-toggleable__label {background-color: #d4ebff;}#sk-container-id-2 div.sk-label input.sk-toggleable__control:checked~label.sk-toggleable__label {background-color: #d4ebff;}#sk-container-id-2 input.sk-hidden--visually {border: 0;clip: rect(1px 1px 1px 1px);clip: rect(1px, 1px, 1px, 1px);height: 1px;margin: -1px;overflow: hidden;padding: 0;position: absolute;width: 1px;}#sk-container-id-2 div.sk-estimator {font-family: monospace;background-color: #f0f8ff;border: 1px dotted black;border-radius: 0.25em;box-sizing: border-box;margin-bottom: 0.5em;}#sk-container-id-2 div.sk-estimator:hover {background-color: #d4ebff;}#sk-container-id-2 div.sk-parallel-item::after {content: \"\";width: 100%;border-bottom: 1px solid gray;flex-grow: 1;}#sk-container-id-2 div.sk-label:hover label.sk-toggleable__label {background-color: #d4ebff;}#sk-container-id-2 div.sk-serial::before {content: \"\";position: absolute;border-left: 1px solid gray;box-sizing: border-box;top: 0;bottom: 0;left: 50%;z-index: 0;}#sk-container-id-2 div.sk-serial {display: flex;flex-direction: column;align-items: center;background-color: white;padding-right: 0.2em;padding-left: 0.2em;position: relative;}#sk-container-id-2 div.sk-item {position: relative;z-index: 1;}#sk-container-id-2 div.sk-parallel {display: flex;align-items: stretch;justify-content: center;background-color: white;position: relative;}#sk-container-id-2 div.sk-item::before, #sk-container-id-2 div.sk-parallel-item::before {content: \"\";position: absolute;border-left: 1px solid gray;box-sizing: border-box;top: 0;bottom: 0;left: 50%;z-index: -1;}#sk-container-id-2 div.sk-parallel-item {display: flex;flex-direction: column;z-index: 1;position: relative;background-color: white;}#sk-container-id-2 div.sk-parallel-item:first-child::after {align-self: flex-end;width: 50%;}#sk-container-id-2 div.sk-parallel-item:last-child::after {align-self: flex-start;width: 50%;}#sk-container-id-2 div.sk-parallel-item:only-child::after {width: 0;}#sk-container-id-2 div.sk-dashed-wrapped {border: 1px dashed gray;margin: 0 0.4em 0.5em 0.4em;box-sizing: border-box;padding-bottom: 0.4em;background-color: white;}#sk-container-id-2 div.sk-label label {font-family: monospace;font-weight: bold;display: inline-block;line-height: 1.2em;}#sk-container-id-2 div.sk-label-container {text-align: center;}#sk-container-id-2 div.sk-container {/* jupyter's `normalize.less` sets `[hidden] { display: none; }` but bootstrap.min.css set `[hidden] { display: none !important; }` so we also need the `!important` here to be able to override the default hidden behavior on the sphinx rendered scikit-learn.org. See: https://github.com/scikit-learn/scikit-learn/issues/21755 */display: inline-block !important;position: relative;}#sk-container-id-2 div.sk-text-repr-fallback {display: none;}</style><div id=\"sk-container-id-2\" class=\"sk-top-container\"><div class=\"sk-text-repr-fallback\"><pre>Pipeline(steps=[(&#x27;vect&#x27;,\n",
              "                 CountVectorizer(preprocessor=&lt;function preprocess_text at 0x78505288a440&gt;)),\n",
              "                (&#x27;tfidf&#x27;, TfidfTransformer()), (&#x27;clf&#x27;, MultinomialNB())])</pre><b>In a Jupyter environment, please rerun this cell to show the HTML representation or trust the notebook. <br />On GitHub, the HTML representation is unable to render, please try loading this page with nbviewer.org.</b></div><div class=\"sk-container\" hidden><div class=\"sk-item sk-dashed-wrapped\"><div class=\"sk-label-container\"><div class=\"sk-label sk-toggleable\"><input class=\"sk-toggleable__control sk-hidden--visually\" id=\"sk-estimator-id-5\" type=\"checkbox\" ><label for=\"sk-estimator-id-5\" class=\"sk-toggleable__label sk-toggleable__label-arrow\">Pipeline</label><div class=\"sk-toggleable__content\"><pre>Pipeline(steps=[(&#x27;vect&#x27;,\n",
              "                 CountVectorizer(preprocessor=&lt;function preprocess_text at 0x78505288a440&gt;)),\n",
              "                (&#x27;tfidf&#x27;, TfidfTransformer()), (&#x27;clf&#x27;, MultinomialNB())])</pre></div></div></div><div class=\"sk-serial\"><div class=\"sk-item\"><div class=\"sk-estimator sk-toggleable\"><input class=\"sk-toggleable__control sk-hidden--visually\" id=\"sk-estimator-id-6\" type=\"checkbox\" ><label for=\"sk-estimator-id-6\" class=\"sk-toggleable__label sk-toggleable__label-arrow\">CountVectorizer</label><div class=\"sk-toggleable__content\"><pre>CountVectorizer(preprocessor=&lt;function preprocess_text at 0x78505288a440&gt;)</pre></div></div></div><div class=\"sk-item\"><div class=\"sk-estimator sk-toggleable\"><input class=\"sk-toggleable__control sk-hidden--visually\" id=\"sk-estimator-id-7\" type=\"checkbox\" ><label for=\"sk-estimator-id-7\" class=\"sk-toggleable__label sk-toggleable__label-arrow\">TfidfTransformer</label><div class=\"sk-toggleable__content\"><pre>TfidfTransformer()</pre></div></div></div><div class=\"sk-item\"><div class=\"sk-estimator sk-toggleable\"><input class=\"sk-toggleable__control sk-hidden--visually\" id=\"sk-estimator-id-8\" type=\"checkbox\" ><label for=\"sk-estimator-id-8\" class=\"sk-toggleable__label sk-toggleable__label-arrow\">MultinomialNB</label><div class=\"sk-toggleable__content\"><pre>MultinomialNB()</pre></div></div></div></div></div></div></div>"
            ]
          },
          "metadata": {},
          "execution_count": 36
        }
      ]
    },
    {
      "cell_type": "code",
      "source": [
        "# Predictions\n",
        "y_pred = pipeline.predict(X_test)\n"
      ],
      "metadata": {
        "id": "jJXgfMullviN"
      },
      "execution_count": 37,
      "outputs": []
    },
    {
      "cell_type": "code",
      "source": [
        "# Evaluation metrics\n",
        "accuracy = accuracy_score(y_test, y_pred)\n",
        "precision = precision_score(y_test, y_pred, average='weighted')\n",
        "recall = recall_score(y_test, y_pred, average='weighted')\n",
        "f1 = f1_score(y_test, y_pred, average='weighted')\n"
      ],
      "metadata": {
        "id": "VU6fHXZqlvf_"
      },
      "execution_count": 38,
      "outputs": []
    },
    {
      "cell_type": "code",
      "source": [
        "print(\"\\nEvaluation Metrics:\")\n",
        "print(f\"Accuracy: {accuracy:.4f}\")\n",
        "print(f\"Precision: {precision:.4f}\")\n",
        "print(f\"Recall: {recall:.4f}\")\n",
        "print(f\"F1-score: {f1:.4f}\")\n"
      ],
      "metadata": {
        "colab": {
          "base_uri": "https://localhost:8080/"
        },
        "id": "_G93c7arlveE",
        "outputId": "d64cce3c-6481-4eb5-dffc-6081f2aca54d"
      },
      "execution_count": 39,
      "outputs": [
        {
          "output_type": "stream",
          "name": "stdout",
          "text": [
            "\n",
            "Evaluation Metrics:\n",
            "Accuracy: 0.4444\n",
            "Precision: 0.5060\n",
            "Recall: 0.4444\n",
            "F1-score: 0.3842\n"
          ]
        }
      ]
    },
    {
      "cell_type": "code",
      "source": [
        "# Confusion Matrix\n",
        "conf_matrix = confusion_matrix(y_test, y_pred)\n",
        "plt.figure(figsize=(8, 6))\n",
        "plt.imshow(conf_matrix, cmap='Blues', interpolation='nearest')\n",
        "plt.colorbar()\n",
        "plt.title('Confusion Matrix')\n",
        "plt.xlabel('Predicted')\n",
        "plt.ylabel('Actual')\n",
        "plt.xticks(np.arange(len(labels)), labels)\n",
        "plt.yticks(np.arange(len(labels)), labels)\n",
        "for i in range(len(labels)):\n",
        "    for j in range(len(labels)):\n",
        "        plt.text(j, i, conf_matrix[i, j], ha='center', va='center', color='white')\n",
        "plt.show()\n"
      ],
      "metadata": {
        "colab": {
          "base_uri": "https://localhost:8080/",
          "height": 564
        },
        "id": "aOVH992cl6nP",
        "outputId": "3cf67ce9-d83e-4e99-a210-6cd0e071fe93"
      },
      "execution_count": 40,
      "outputs": [
        {
          "output_type": "display_data",
          "data": {
            "text/plain": [
              "<Figure size 800x600 with 2 Axes>"
            ],
            "image/png": "[encoded data removed]"
          },
          "metadata": {}
        }
      ]
    },
    {
      "cell_type": "code",
      "source": [
        "# Portfolio simulation based on sentiment predictions\n",
        "class Portfolio:\n",
        "    def __init__(self, initial_cash):\n",
        "        self.cash = initial_cash\n",
        "        self.stock_units = 0\n",
        "        self.initial_cash = initial_cash\n",
        "        self.portfolio_value = self.cash\n",
        "        self.trades = []\n",
        "\n",
        "    def buy_stock(self, price):\n",
        "        units_to_buy = int(self.cash / price)\n",
        "        self.stock_units += units_to_buy\n",
        "        self.cash -= units_to_buy * price\n",
        "        self.portfolio_value = self.cash + self.stock_units * price\n",
        "        self.trades.append(('BUY', units_to_buy, price))\n",
        "\n",
        "    def sell_stock(self, price):\n",
        "        self.cash += self.stock_units * price\n",
        "        self.stock_units = 0\n",
        "        self.portfolio_value = self.cash\n",
        "        self.trades.append(('SELL', self.stock_units, price))\n",
        "\n",
        "    def portfolio_performance(self):\n",
        "        returns = (self.portfolio_value - self.initial_cash) / self.initial_cash\n",
        "        return returns, len(self.trades), self.trades\n"
      ],
      "metadata": {
        "id": "q4L5ABO6l6k3"
      },
      "execution_count": 41,
      "outputs": []
    },
    {
      "cell_type": "code",
      "source": [
        "# Example simulation based on sentiment prediction\n",
        "portfolio = Portfolio(initial_cash=10000)\n",
        "sentiments = pipeline.predict(headlines)\n"
      ],
      "metadata": {
        "id": "NduIe2Xnl6in"
      },
      "execution_count": 42,
      "outputs": []
    },
    {
      "cell_type": "code",
      "source": [
        "for i, sentiment in enumerate(sentiments):\n",
        "    if sentiment == 'positive':\n",
        "        # Fetching current stock price as an example (using AAPL)\n",
        "        stock_data = fetch_stock_data('AAPL', '2023-01-01', '2024-01-01')\n",
        "        if stock_data is not None and len(stock_data) > 0:\n",
        "            current_price = stock_data['Adj Close'].iloc[-1]\n",
        "            portfolio.buy_stock(price=current_price)\n",
        "    elif sentiment == 'negative':\n",
        "        # Fetching current stock price as an example (using AAPL)\n",
        "        stock_data = fetch_stock_data('AAPL', '2023-01-01', '2024-01-01')\n",
        "        if stock_data is not None and len(stock_data) > 0:\n",
        "            current_price = stock_data['Adj Close'].iloc[-1]\n",
        "            portfolio.sell_stock(price=current_price)\n",
        "\n",
        "returns, num_trades, trades = portfolio.portfolio_performance()\n"
      ],
      "metadata": {
        "colab": {
          "base_uri": "https://localhost:8080/"
        },
        "id": "FKSCBAzZl6gM",
        "outputId": "5f54f0d8-c5d5-47c0-a933-60c87ee7cfa4"
      },
      "execution_count": 43,
      "outputs": [
        {
          "output_type": "stream",
          "name": "stderr",
          "text": [
            "[*********************100%%**********************]  1 of 1 completed\n",
            "[*********************100%%**********************]  1 of 1 completed\n",
            "[*********************100%%**********************]  1 of 1 completed\n",
            "[*********************100%%**********************]  1 of 1 completed\n",
            "[*********************100%%**********************]  1 of 1 completed\n",
            "[*********************100%%**********************]  1 of 1 completed\n",
            "[*********************100%%**********************]  1 of 1 completed\n",
            "[*********************100%%**********************]  1 of 1 completed\n",
            "[*********************100%%**********************]  1 of 1 completed\n",
            "[*********************100%%**********************]  1 of 1 completed\n",
            "[*********************100%%**********************]  1 of 1 completed\n",
            "[*********************100%%**********************]  1 of 1 completed\n",
            "[*********************100%%**********************]  1 of 1 completed\n",
            "[*********************100%%**********************]  1 of 1 completed\n",
            "[*********************100%%**********************]  1 of 1 completed\n",
            "[*********************100%%**********************]  1 of 1 completed\n",
            "[*********************100%%**********************]  1 of 1 completed\n",
            "[*********************100%%**********************]  1 of 1 completed\n",
            "[*********************100%%**********************]  1 of 1 completed\n",
            "[*********************100%%**********************]  1 of 1 completed\n",
            "[*********************100%%**********************]  1 of 1 completed\n",
            "[*********************100%%**********************]  1 of 1 completed\n",
            "[*********************100%%**********************]  1 of 1 completed\n",
            "[*********************100%%**********************]  1 of 1 completed\n",
            "[*********************100%%**********************]  1 of 1 completed\n",
            "[*********************100%%**********************]  1 of 1 completed\n",
            "[*********************100%%**********************]  1 of 1 completed\n",
            "[*********************100%%**********************]  1 of 1 completed\n",
            "[*********************100%%**********************]  1 of 1 completed\n",
            "[*********************100%%**********************]  1 of 1 completed\n",
            "[*********************100%%**********************]  1 of 1 completed\n",
            "[*********************100%%**********************]  1 of 1 completed\n",
            "[*********************100%%**********************]  1 of 1 completed\n",
            "[*********************100%%**********************]  1 of 1 completed\n",
            "[*********************100%%**********************]  1 of 1 completed\n",
            "[*********************100%%**********************]  1 of 1 completed\n",
            "[*********************100%%**********************]  1 of 1 completed\n",
            "[*********************100%%**********************]  1 of 1 completed\n",
            "[*********************100%%**********************]  1 of 1 completed\n",
            "[*********************100%%**********************]  1 of 1 completed\n",
            "[*********************100%%**********************]  1 of 1 completed\n",
            "[*********************100%%**********************]  1 of 1 completed\n",
            "[*********************100%%**********************]  1 of 1 completed\n",
            "[*********************100%%**********************]  1 of 1 completed\n",
            "[*********************100%%**********************]  1 of 1 completed\n",
            "[*********************100%%**********************]  1 of 1 completed\n",
            "[*********************100%%**********************]  1 of 1 completed\n",
            "[*********************100%%**********************]  1 of 1 completed\n",
            "[*********************100%%**********************]  1 of 1 completed\n",
            "[*********************100%%**********************]  1 of 1 completed\n",
            "[*********************100%%**********************]  1 of 1 completed\n",
            "[*********************100%%**********************]  1 of 1 completed\n",
            "[*********************100%%**********************]  1 of 1 completed\n",
            "[*********************100%%**********************]  1 of 1 completed\n",
            "[*********************100%%**********************]  1 of 1 completed\n",
            "[*********************100%%**********************]  1 of 1 completed\n",
            "[*********************100%%**********************]  1 of 1 completed\n",
            "[*********************100%%**********************]  1 of 1 completed\n",
            "[*********************100%%**********************]  1 of 1 completed\n",
            "[*********************100%%**********************]  1 of 1 completed\n",
            "[*********************100%%**********************]  1 of 1 completed\n",
            "[*********************100%%**********************]  1 of 1 completed\n",
            "[*********************100%%**********************]  1 of 1 completed\n",
            "[*********************100%%**********************]  1 of 1 completed\n",
            "[*********************100%%**********************]  1 of 1 completed\n",
            "[*********************100%%**********************]  1 of 1 completed\n",
            "[*********************100%%**********************]  1 of 1 completed\n",
            "[*********************100%%**********************]  1 of 1 completed\n",
            "[*********************100%%**********************]  1 of 1 completed\n",
            "[*********************100%%**********************]  1 of 1 completed\n",
            "[*********************100%%**********************]  1 of 1 completed\n",
            "[*********************100%%**********************]  1 of 1 completed\n",
            "[*********************100%%**********************]  1 of 1 completed\n",
            "[*********************100%%**********************]  1 of 1 completed\n",
            "[*********************100%%**********************]  1 of 1 completed\n",
            "[*********************100%%**********************]  1 of 1 completed\n",
            "[*********************100%%**********************]  1 of 1 completed\n",
            "[*********************100%%**********************]  1 of 1 completed\n",
            "[*********************100%%**********************]  1 of 1 completed\n",
            "[*********************100%%**********************]  1 of 1 completed\n",
            "[*********************100%%**********************]  1 of 1 completed\n",
            "[*********************100%%**********************]  1 of 1 completed\n",
            "[*********************100%%**********************]  1 of 1 completed\n",
            "[*********************100%%**********************]  1 of 1 completed\n",
            "[*********************100%%**********************]  1 of 1 completed\n",
            "[*********************100%%**********************]  1 of 1 completed\n",
            "[*********************100%%**********************]  1 of 1 completed\n",
            "[*********************100%%**********************]  1 of 1 completed\n",
            "[*********************100%%**********************]  1 of 1 completed\n",
            "[*********************100%%**********************]  1 of 1 completed\n",
            "[*********************100%%**********************]  1 of 1 completed\n",
            "[*********************100%%**********************]  1 of 1 completed\n",
            "[*********************100%%**********************]  1 of 1 completed\n",
            "[*********************100%%**********************]  1 of 1 completed\n",
            "[*********************100%%**********************]  1 of 1 completed\n",
            "[*********************100%%**********************]  1 of 1 completed\n",
            "[*********************100%%**********************]  1 of 1 completed\n",
            "[*********************100%%**********************]  1 of 1 completed\n",
            "[*********************100%%**********************]  1 of 1 completed\n",
            "[*********************100%%**********************]  1 of 1 completed\n",
            "[*********************100%%**********************]  1 of 1 completed\n",
            "[*********************100%%**********************]  1 of 1 completed\n",
            "[*********************100%%**********************]  1 of 1 completed\n",
            "[*********************100%%**********************]  1 of 1 completed\n",
            "[*********************100%%**********************]  1 of 1 completed\n",
            "[*********************100%%**********************]  1 of 1 completed\n",
            "[*********************100%%**********************]  1 of 1 completed\n",
            "[*********************100%%**********************]  1 of 1 completed\n",
            "[*********************100%%**********************]  1 of 1 completed\n",
            "[*********************100%%**********************]  1 of 1 completed\n",
            "[*********************100%%**********************]  1 of 1 completed\n",
            "[*********************100%%**********************]  1 of 1 completed\n",
            "[*********************100%%**********************]  1 of 1 completed\n",
            "[*********************100%%**********************]  1 of 1 completed\n",
            "[*********************100%%**********************]  1 of 1 completed\n",
            "[*********************100%%**********************]  1 of 1 completed\n",
            "[*********************100%%**********************]  1 of 1 completed\n",
            "[*********************100%%**********************]  1 of 1 completed\n",
            "[*********************100%%**********************]  1 of 1 completed\n",
            "[*********************100%%**********************]  1 of 1 completed\n"
          ]
        }
      ]
    },
    {
      "cell_type": "code",
      "source": [
        "# Display portfolio performance\n",
        "print(f\"\\nPortfolio Performance:\")\n",
        "print(f\"Initial Cash: ${portfolio.initial_cash}\")\n",
        "print(f\"Final Portfolio Value: ${portfolio.portfolio_value:.2f}\")\n",
        "print(f\"Returns: {returns:.2%}\")\n",
        "print(f\"Number of Trades Executed: {num_trades}\")\n"
      ],
      "metadata": {
        "colab": {
          "base_uri": "https://localhost:8080/"
        },
        "id": "5IVbPPf5l6d4",
        "outputId": "8cbfd245-7b69-4dfc-9246-111574eba41e"
      },
      "execution_count": 44,
      "outputs": [
        {
          "output_type": "stream",
          "name": "stdout",
          "text": [
            "\n",
            "Portfolio Performance:\n",
            "Initial Cash: $10000\n",
            "Final Portfolio Value: $10000.00\n",
            "Returns: 0.00%\n",
            "Number of Trades Executed: 120\n"
          ]
        }
      ]
    },
    {
      "cell_type": "code",
      "source": [
        "# Display trades\n",
        "print(\"\\nTrades:\")\n",
        "for trade in trades:\n",
        "    print(trade)\n"
      ],
      "metadata": {
        "colab": {
          "base_uri": "https://localhost:8080/"
        },
        "id": "ed7S68aGl6bY",
        "outputId": "2a7d5efc-7784-4d55-d100-b07d42fe78bb"
      },
      "execution_count": 45,
      "outputs": [
        {
          "output_type": "stream",
          "name": "stdout",
          "text": [
            "\n",
            "Trades:\n",
            "('SELL', 0, 192.28463745117188)\n",
            "('SELL', 0, 192.28463745117188)\n",
            "('BUY', 52, 192.28463745117188)\n",
            "('SELL', 0, 192.28463745117188)\n",
            "('BUY', 52, 192.28463745117188)\n",
            "('BUY', 0, 192.28463745117188)\n",
            "('BUY', 0, 192.28463745117188)\n",
            "('SELL', 0, 192.28463745117188)\n",
            "('BUY', 52, 192.28463745117188)\n",
            "('BUY', 0, 192.28463745117188)\n",
            "('BUY', 0, 192.28463745117188)\n",
            "('SELL', 0, 192.28463745117188)\n",
            "('BUY', 52, 192.28463745117188)\n",
            "('BUY', 0, 192.28463745117188)\n",
            "('BUY', 0, 192.28463745117188)\n",
            "('SELL', 0, 192.28463745117188)\n",
            "('BUY', 52, 192.28463745117188)\n",
            "('BUY', 0, 192.28463745117188)\n",
            "('BUY', 0, 192.28463745117188)\n",
            "('BUY', 0, 192.28463745117188)\n",
            "('SELL', 0, 192.28463745117188)\n",
            "('SELL', 0, 192.28463745117188)\n",
            "('BUY', 52, 192.28463745117188)\n",
            "('BUY', 0, 192.28463745117188)\n",
            "('BUY', 0, 192.28463745117188)\n",
            "('SELL', 0, 192.28463745117188)\n",
            "('BUY', 52, 192.28463745117188)\n",
            "('BUY', 0, 192.28463745117188)\n",
            "('SELL', 0, 192.28463745117188)\n",
            "('SELL', 0, 192.28463745117188)\n",
            "('BUY', 52, 192.28463745117188)\n",
            "('BUY', 0, 192.28463745117188)\n",
            "('BUY', 0, 192.28463745117188)\n",
            "('BUY', 0, 192.28463745117188)\n",
            "('SELL', 0, 192.28463745117188)\n",
            "('BUY', 52, 192.28463745117188)\n",
            "('BUY', 0, 192.28463745117188)\n",
            "('SELL', 0, 192.28463745117188)\n",
            "('BUY', 52, 192.28463745117188)\n",
            "('BUY', 0, 192.28463745117188)\n",
            "('BUY', 0, 192.28463745117188)\n",
            "('BUY', 0, 192.28463745117188)\n",
            "('BUY', 0, 192.28463745117188)\n",
            "('BUY', 0, 192.28463745117188)\n",
            "('BUY', 0, 192.28463745117188)\n",
            "('BUY', 0, 192.28463745117188)\n",
            "('SELL', 0, 192.28463745117188)\n",
            "('SELL', 0, 192.28463745117188)\n",
            "('BUY', 52, 192.28463745117188)\n",
            "('BUY', 0, 192.28463745117188)\n",
            "('SELL', 0, 192.28463745117188)\n",
            "('BUY', 52, 192.28463745117188)\n",
            "('BUY', 0, 192.28463745117188)\n",
            "('BUY', 0, 192.28463745117188)\n",
            "('BUY', 0, 192.28463745117188)\n",
            "('SELL', 0, 192.28463745117188)\n",
            "('SELL', 0, 192.28463745117188)\n",
            "('SELL', 0, 192.28463745117188)\n",
            "('SELL', 0, 192.28463745117188)\n",
            "('SELL', 0, 192.28463745117188)\n",
            "('BUY', 52, 192.28463745117188)\n",
            "('BUY', 0, 192.28463745117188)\n",
            "('BUY', 0, 192.28463745117188)\n",
            "('BUY', 0, 192.28463745117188)\n",
            "('BUY', 0, 192.28463745117188)\n",
            "('BUY', 0, 192.28463745117188)\n",
            "('SELL', 0, 192.28463745117188)\n",
            "('SELL', 0, 192.28463745117188)\n",
            "('BUY', 52, 192.28463745117188)\n",
            "('SELL', 0, 192.28463745117188)\n",
            "('SELL', 0, 192.28463745117188)\n",
            "('BUY', 52, 192.28463745117188)\n",
            "('BUY', 0, 192.28463745117188)\n",
            "('BUY', 0, 192.28463745117188)\n",
            "('BUY', 0, 192.28463745117188)\n",
            "('BUY', 0, 192.28463745117188)\n",
            "('SELL', 0, 192.28463745117188)\n",
            "('BUY', 52, 192.28463745117188)\n",
            "('SELL', 0, 192.28463745117188)\n",
            "('BUY', 52, 192.28463745117188)\n",
            "('SELL', 0, 192.28463745117188)\n",
            "('SELL', 0, 192.28463745117188)\n",
            "('BUY', 52, 192.28463745117188)\n",
            "('BUY', 0, 192.28463745117188)\n",
            "('BUY', 0, 192.28463745117188)\n",
            "('BUY', 0, 192.28463745117188)\n",
            "('BUY', 0, 192.28463745117188)\n",
            "('BUY', 0, 192.28463745117188)\n",
            "('SELL', 0, 192.28463745117188)\n",
            "('BUY', 52, 192.28463745117188)\n",
            "('BUY', 0, 192.28463745117188)\n",
            "('BUY', 0, 192.28463745117188)\n",
            "('SELL', 0, 192.28463745117188)\n",
            "('SELL', 0, 192.28463745117188)\n",
            "('BUY', 52, 192.28463745117188)\n",
            "('BUY', 0, 192.28463745117188)\n",
            "('SELL', 0, 192.28463745117188)\n",
            "('BUY', 52, 192.28463745117188)\n",
            "('SELL', 0, 192.28463745117188)\n",
            "('BUY', 52, 192.28463745117188)\n",
            "('BUY', 0, 192.28463745117188)\n",
            "('BUY', 0, 192.28463745117188)\n",
            "('SELL', 0, 192.28463745117188)\n",
            "('BUY', 52, 192.28463745117188)\n",
            "('BUY', 0, 192.28463745117188)\n",
            "('BUY', 0, 192.28463745117188)\n",
            "('BUY', 0, 192.28463745117188)\n",
            "('SELL', 0, 192.28463745117188)\n",
            "('BUY', 52, 192.28463745117188)\n",
            "('BUY', 0, 192.28463745117188)\n",
            "('SELL', 0, 192.28463745117188)\n",
            "('SELL', 0, 192.28463745117188)\n",
            "('SELL', 0, 192.28463745117188)\n",
            "('BUY', 52, 192.28463745117188)\n",
            "('BUY', 0, 192.28463745117188)\n",
            "('BUY', 0, 192.28463745117188)\n",
            "('BUY', 0, 192.28463745117188)\n",
            "('BUY', 0, 192.28463745117188)\n",
            "('BUY', 0, 192.28463745117188)\n",
            "('BUY', 0, 192.28463745117188)\n"
          ]
        }
      ]
    }
  ]
}